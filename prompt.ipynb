{
  "cells": [
    {
      "cell_type": "markdown",
      "metadata": {
        "id": "CcUT6Fon_qRE"
      },
      "source": [
        "### Required Assignment 5.1: Will the Customer Accept the Coupon?\n",
        "\n",
        "**Context**\n",
        "\n",
        "Imagine driving through town and a coupon is delivered to your cell phone for a restaurant near where you are driving. Would you accept that coupon and take a short detour to the restaurant? Would you accept the coupon but use it on a subsequent trip? Would you ignore the coupon entirely? What if the coupon was for a bar instead of a restaurant? What about a coffee house? Would you accept a bar coupon with a minor passenger in the car? What about if it was just you and your partner in the car? Would weather impact the rate of acceptance? What about the time of day?\n",
        "\n",
        "Obviously, proximity to the business is a factor on whether the coupon is delivered to the driver or not, but what are the factors that determine whether a driver accepts the coupon once it is delivered to them? How would you determine whether a driver is likely to accept a coupon?\n",
        "\n",
        "**Overview**\n",
        "\n",
        "The goal of this project is to use what you know about visualizations and probability distributions to distinguish between customers who accepted a driving coupon versus those that did not.\n",
        "\n",
        "**Data**\n",
        "\n",
        "This data comes to us from the UCI Machine Learning repository and was collected via a survey on Amazon Mechanical Turk. The survey describes different driving scenarios including the destination, current time, weather, passenger, etc., and then ask the person whether he will accept the coupon if he is the driver. Answers that the user will drive there ‘right away’ or ‘later before the coupon expires’ are labeled as ‘Y = 1’ and answers ‘no, I do not want the coupon’ are labeled as ‘Y = 0’.  There are five different types of coupons -- less expensive restaurants (under \\$20), coffee houses, carry out & take away, bar, and more expensive restaurants (\\$20 - $50)."
      ]
    },
    {
      "cell_type": "markdown",
      "metadata": {
        "id": "1wORvMBJ_qRF"
      },
      "source": [
        "**Deliverables**\n",
        "\n",
        "Your final product should be a brief report that highlights the differences between customers who did and did not accept the coupons.  To explore the data you will utilize your knowledge of plotting, statistical summaries, and visualization using Python. You will publish your findings in a public facing github repository as your first portfolio piece.\n",
        "\n",
        "\n",
        "\n"
      ]
    },
    {
      "cell_type": "markdown",
      "metadata": {},
      "source": []
    },
    {
      "cell_type": "markdown",
      "metadata": {
        "id": "pG6_Ym6q_qRG"
      },
      "source": [
        "### Data Description\n",
        "Keep in mind that these values mentioned below are average values.\n",
        "\n",
        "The attributes of this data set include:\n",
        "1. User attributes\n",
        "    -  Gender: male, female\n",
        "    -  Age: below 21, 21 to 25, 26 to 30, etc.\n",
        "    -  Marital Status: single, married partner, unmarried partner, or widowed\n",
        "    -  Number of children: 0, 1, or more than 1\n",
        "    -  Education: high school, bachelors degree, associates degree, or graduate degree\n",
        "    -  Occupation: architecture & engineering, business & financial, etc.\n",
        "    -  Annual income: less than \\\\$12500, \\\\$12500 - \\\\$24999, \\\\$25000 - \\\\$37499, etc.\n",
        "    -  Number of times that he/she goes to a bar: 0, less than 1, 1 to 3, 4 to 8 or greater than 8\n",
        "    -  Number of times that he/she buys takeaway food: 0, less than 1, 1 to 3, 4 to 8 or greater\n",
        "    than 8\n",
        "    -  Number of times that he/she goes to a coffee house: 0, less than 1, 1 to 3, 4 to 8 or\n",
        "    greater than 8\n",
        "    -  Number of times that he/she eats at a restaurant with average expense less than \\\\$20 per\n",
        "    person: 0, less than 1, 1 to 3, 4 to 8 or greater than 8\n",
        "    -  Number of times that he/she goes to a bar: 0, less than 1, 1 to 3, 4 to 8 or greater than 8\n",
        "    \n",
        "\n",
        "2. Contextual attributes\n",
        "    - Driving destination: home, work, or no urgent destination\n",
        "    - Location of user, coupon and destination: we provide a map to show the geographical\n",
        "    location of the user, destination, and the venue, and we mark the distance between each\n",
        "    two places with time of driving. The user can see whether the venue is in the same\n",
        "    direction as the destination.\n",
        "    - Weather: sunny, rainy, or snowy\n",
        "    - Temperature: 30F, 55F, or 80F\n",
        "    - Time: 10AM, 2PM, or 6PM\n",
        "    - Passenger: alone, partner, kid(s), or friend(s)\n",
        "\n",
        "\n",
        "3. Coupon attributes\n",
        "    - time before it expires: 2 hours or one day"
      ]
    },
    {
      "cell_type": "code",
      "execution_count": 3,
      "metadata": {
        "id": "dzNoP3o__qRG"
      },
      "outputs": [],
      "source": [
        "import matplotlib.pyplot as plt\n",
        "import seaborn as sns\n",
        "import pandas as pd\n",
        "import numpy as np"
      ]
    },
    {
      "cell_type": "markdown",
      "metadata": {
        "id": "Ct8pI1uE_qRG"
      },
      "source": [
        "### Problems\n",
        "\n",
        "Use the prompts below to get started with your data analysis.  \n",
        "\n",
        "1. Read in the `coupons.csv` file.\n",
        "\n",
        "\n"
      ]
    },
    {
      "cell_type": "code",
      "execution_count": 4,
      "metadata": {
        "id": "X0vbffYg_qRH"
      },
      "outputs": [],
      "source": [
        "data = pd.read_csv('data/coupons.csv')\n"
      ]
    },
    {
      "cell_type": "code",
      "execution_count": 5,
      "metadata": {
        "id": "TXofQ_DF_qRH",
        "outputId": "2fc96a2c-1112-4b54-f24f-dbb9bc88abfb"
      },
      "outputs": [
        {
          "data": {
            "text/html": [
              "<div>\n",
              "<style scoped>\n",
              "    .dataframe tbody tr th:only-of-type {\n",
              "        vertical-align: middle;\n",
              "    }\n",
              "\n",
              "    .dataframe tbody tr th {\n",
              "        vertical-align: top;\n",
              "    }\n",
              "\n",
              "    .dataframe thead th {\n",
              "        text-align: right;\n",
              "    }\n",
              "</style>\n",
              "<table border=\"1\" class=\"dataframe\">\n",
              "  <thead>\n",
              "    <tr style=\"text-align: right;\">\n",
              "      <th></th>\n",
              "      <th>destination</th>\n",
              "      <th>passanger</th>\n",
              "      <th>weather</th>\n",
              "      <th>temperature</th>\n",
              "      <th>time</th>\n",
              "      <th>coupon</th>\n",
              "      <th>expiration</th>\n",
              "      <th>gender</th>\n",
              "      <th>age</th>\n",
              "      <th>maritalStatus</th>\n",
              "      <th>...</th>\n",
              "      <th>CoffeeHouse</th>\n",
              "      <th>CarryAway</th>\n",
              "      <th>RestaurantLessThan20</th>\n",
              "      <th>Restaurant20To50</th>\n",
              "      <th>toCoupon_GEQ5min</th>\n",
              "      <th>toCoupon_GEQ15min</th>\n",
              "      <th>toCoupon_GEQ25min</th>\n",
              "      <th>direction_same</th>\n",
              "      <th>direction_opp</th>\n",
              "      <th>Y</th>\n",
              "    </tr>\n",
              "  </thead>\n",
              "  <tbody>\n",
              "    <tr>\n",
              "      <th>0</th>\n",
              "      <td>No Urgent Place</td>\n",
              "      <td>Alone</td>\n",
              "      <td>Sunny</td>\n",
              "      <td>55</td>\n",
              "      <td>2PM</td>\n",
              "      <td>Restaurant(&lt;20)</td>\n",
              "      <td>1d</td>\n",
              "      <td>Female</td>\n",
              "      <td>21</td>\n",
              "      <td>Unmarried partner</td>\n",
              "      <td>...</td>\n",
              "      <td>never</td>\n",
              "      <td>NaN</td>\n",
              "      <td>4~8</td>\n",
              "      <td>1~3</td>\n",
              "      <td>1</td>\n",
              "      <td>0</td>\n",
              "      <td>0</td>\n",
              "      <td>0</td>\n",
              "      <td>1</td>\n",
              "      <td>1</td>\n",
              "    </tr>\n",
              "    <tr>\n",
              "      <th>1</th>\n",
              "      <td>No Urgent Place</td>\n",
              "      <td>Friend(s)</td>\n",
              "      <td>Sunny</td>\n",
              "      <td>80</td>\n",
              "      <td>10AM</td>\n",
              "      <td>Coffee House</td>\n",
              "      <td>2h</td>\n",
              "      <td>Female</td>\n",
              "      <td>21</td>\n",
              "      <td>Unmarried partner</td>\n",
              "      <td>...</td>\n",
              "      <td>never</td>\n",
              "      <td>NaN</td>\n",
              "      <td>4~8</td>\n",
              "      <td>1~3</td>\n",
              "      <td>1</td>\n",
              "      <td>0</td>\n",
              "      <td>0</td>\n",
              "      <td>0</td>\n",
              "      <td>1</td>\n",
              "      <td>0</td>\n",
              "    </tr>\n",
              "    <tr>\n",
              "      <th>2</th>\n",
              "      <td>No Urgent Place</td>\n",
              "      <td>Friend(s)</td>\n",
              "      <td>Sunny</td>\n",
              "      <td>80</td>\n",
              "      <td>10AM</td>\n",
              "      <td>Carry out &amp; Take away</td>\n",
              "      <td>2h</td>\n",
              "      <td>Female</td>\n",
              "      <td>21</td>\n",
              "      <td>Unmarried partner</td>\n",
              "      <td>...</td>\n",
              "      <td>never</td>\n",
              "      <td>NaN</td>\n",
              "      <td>4~8</td>\n",
              "      <td>1~3</td>\n",
              "      <td>1</td>\n",
              "      <td>1</td>\n",
              "      <td>0</td>\n",
              "      <td>0</td>\n",
              "      <td>1</td>\n",
              "      <td>1</td>\n",
              "    </tr>\n",
              "    <tr>\n",
              "      <th>3</th>\n",
              "      <td>No Urgent Place</td>\n",
              "      <td>Friend(s)</td>\n",
              "      <td>Sunny</td>\n",
              "      <td>80</td>\n",
              "      <td>2PM</td>\n",
              "      <td>Coffee House</td>\n",
              "      <td>2h</td>\n",
              "      <td>Female</td>\n",
              "      <td>21</td>\n",
              "      <td>Unmarried partner</td>\n",
              "      <td>...</td>\n",
              "      <td>never</td>\n",
              "      <td>NaN</td>\n",
              "      <td>4~8</td>\n",
              "      <td>1~3</td>\n",
              "      <td>1</td>\n",
              "      <td>1</td>\n",
              "      <td>0</td>\n",
              "      <td>0</td>\n",
              "      <td>1</td>\n",
              "      <td>0</td>\n",
              "    </tr>\n",
              "    <tr>\n",
              "      <th>4</th>\n",
              "      <td>No Urgent Place</td>\n",
              "      <td>Friend(s)</td>\n",
              "      <td>Sunny</td>\n",
              "      <td>80</td>\n",
              "      <td>2PM</td>\n",
              "      <td>Coffee House</td>\n",
              "      <td>1d</td>\n",
              "      <td>Female</td>\n",
              "      <td>21</td>\n",
              "      <td>Unmarried partner</td>\n",
              "      <td>...</td>\n",
              "      <td>never</td>\n",
              "      <td>NaN</td>\n",
              "      <td>4~8</td>\n",
              "      <td>1~3</td>\n",
              "      <td>1</td>\n",
              "      <td>1</td>\n",
              "      <td>0</td>\n",
              "      <td>0</td>\n",
              "      <td>1</td>\n",
              "      <td>0</td>\n",
              "    </tr>\n",
              "  </tbody>\n",
              "</table>\n",
              "<p>5 rows × 26 columns</p>\n",
              "</div>"
            ],
            "text/plain": [
              "       destination  passanger weather  temperature  time  \\\n",
              "0  No Urgent Place      Alone   Sunny           55   2PM   \n",
              "1  No Urgent Place  Friend(s)   Sunny           80  10AM   \n",
              "2  No Urgent Place  Friend(s)   Sunny           80  10AM   \n",
              "3  No Urgent Place  Friend(s)   Sunny           80   2PM   \n",
              "4  No Urgent Place  Friend(s)   Sunny           80   2PM   \n",
              "\n",
              "                  coupon expiration  gender age      maritalStatus  ...  \\\n",
              "0        Restaurant(<20)         1d  Female  21  Unmarried partner  ...   \n",
              "1           Coffee House         2h  Female  21  Unmarried partner  ...   \n",
              "2  Carry out & Take away         2h  Female  21  Unmarried partner  ...   \n",
              "3           Coffee House         2h  Female  21  Unmarried partner  ...   \n",
              "4           Coffee House         1d  Female  21  Unmarried partner  ...   \n",
              "\n",
              "   CoffeeHouse CarryAway RestaurantLessThan20 Restaurant20To50  \\\n",
              "0        never       NaN                  4~8              1~3   \n",
              "1        never       NaN                  4~8              1~3   \n",
              "2        never       NaN                  4~8              1~3   \n",
              "3        never       NaN                  4~8              1~3   \n",
              "4        never       NaN                  4~8              1~3   \n",
              "\n",
              "  toCoupon_GEQ5min toCoupon_GEQ15min toCoupon_GEQ25min direction_same  \\\n",
              "0                1                 0                 0              0   \n",
              "1                1                 0                 0              0   \n",
              "2                1                 1                 0              0   \n",
              "3                1                 1                 0              0   \n",
              "4                1                 1                 0              0   \n",
              "\n",
              "  direction_opp  Y  \n",
              "0             1  1  \n",
              "1             1  0  \n",
              "2             1  1  \n",
              "3             1  0  \n",
              "4             1  0  \n",
              "\n",
              "[5 rows x 26 columns]"
            ]
          },
          "execution_count": 5,
          "metadata": {},
          "output_type": "execute_result"
        }
      ],
      "source": [
        "#print 5 rows of data frame\n",
        "data.head()"
      ]
    },
    {
      "cell_type": "markdown",
      "metadata": {
        "id": "GcDs78ZH_qRH"
      },
      "source": [
        "2. Investigate the dataset for missing or problematic data."
      ]
    },
    {
      "cell_type": "code",
      "execution_count": 6,
      "metadata": {
        "id": "6CwL6oWj_qRH"
      },
      "outputs": [
        {
          "data": {
            "text/plain": [
              "(12684, 26)"
            ]
          },
          "execution_count": 6,
          "metadata": {},
          "output_type": "execute_result"
        }
      ],
      "source": [
        "#missing vals in data\n",
        "missing_data = data.isnull().sum()\n",
        "\n",
        "\n",
        "#missing data/ column\n",
        "missing_data\n",
        "\n",
        "data.shape"
      ]
    },
    {
      "cell_type": "markdown",
      "metadata": {
        "id": "bSdVSpYB_qRH"
      },
      "source": [
        "3. Decide what to do about your missing data -- drop, replace, other..."
      ]
    },
    {
      "cell_type": "code",
      "execution_count": 7,
      "metadata": {
        "id": "tyvoAC5F_qRI"
      },
      "outputs": [],
      "source": [
        "#drop\n",
        "data_cleaned = data.dropna(subset=['coupon', 'temperature'])"
      ]
    },
    {
      "cell_type": "markdown",
      "metadata": {
        "id": "YE6oJbXd_qRI"
      },
      "source": [
        "4. What proportion of the total observations chose to accept the coupon?\n",
        "\n"
      ]
    },
    {
      "cell_type": "code",
      "execution_count": 8,
      "metadata": {
        "id": "86GGqBTv_qRI"
      },
      "outputs": [],
      "source": [
        "proportion_accepted = data['Y'].value_counts(normalize=True)"
      ]
    },
    {
      "cell_type": "markdown",
      "metadata": {
        "id": "vflz0DoE_qRI"
      },
      "source": [
        "5. Use a bar plot to visualize the `coupon` column."
      ]
    },
    {
      "cell_type": "code",
      "execution_count": 9,
      "metadata": {
        "id": "dHFh3E45_qRI"
      },
      "outputs": [
        {
          "data": {
            "image/png": "[encoded data removed]",
            "text/plain": [
              "<Figure size 800x600 with 1 Axes>"
            ]
          },
          "metadata": {},
          "output_type": "display_data"
        }
      ],
      "source": [
        "plt.figure(figsize=(8, 6))\n",
        "sns.countplot(data=data, x = 'coupon', hue = 'Y')\n",
        "plt.title('Coupon Acceptance Visualization')\n",
        "plt.xlabel('Coupon Type')\n",
        "plt.ylabel('Count')\n",
        "plt.show()"
      ]
    },
    {
      "cell_type": "markdown",
      "metadata": {
        "id": "Qw4lCyx2_qRI"
      },
      "source": [
        "6. Use a histogram to visualize the temperature column."
      ]
    },
    {
      "cell_type": "markdown",
      "metadata": {},
      "source": [
        "\n"
      ]
    },
    {
      "cell_type": "code",
      "execution_count": 10,
      "metadata": {
        "id": "Yg9Anv71_qRI"
      },
      "outputs": [
        {
          "data": {
            "image/png": "[encoded data removed]",
            "text/plain": [
              "<Figure size 800x600 with 1 Axes>"
            ]
          },
          "metadata": {},
          "output_type": "display_data"
        }
      ],
      "source": [
        "plt.figure(figsize=(8, 6))\n",
        "sns.histplot(data['temperature'], bins=10)\n",
        "plt.title('Temperature Distribution')\n",
        "plt.xlabel('Temperature (F)')\n",
        "plt.ylabel('Frequency')\n",
        "plt.show()"
      ]
    },
    {
      "cell_type": "code",
      "execution_count": null,
      "metadata": {
        "id": "zLtOaJQk_qRI"
      },
      "outputs": [],
      "source": []
    },
    {
      "cell_type": "code",
      "execution_count": null,
      "metadata": {
        "id": "7GBHZKBp_qRJ"
      },
      "outputs": [],
      "source": []
    },
    {
      "cell_type": "code",
      "execution_count": null,
      "metadata": {
        "id": "Y5nBUA-j_qRJ"
      },
      "outputs": [],
      "source": []
    },
    {
      "cell_type": "code",
      "execution_count": null,
      "metadata": {
        "id": "ShcUC-Vm_qRJ"
      },
      "outputs": [],
      "source": []
    },
    {
      "cell_type": "markdown",
      "metadata": {
        "id": "FupfgeJk_qRJ"
      },
      "source": [
        "**Investigating the Bar Coupons**\n",
        "\n",
        "Now, we will lead you through an exploration of just the bar related coupons.  \n",
        "\n",
        "1. Create a new `DataFrame` that contains just the bar coupons.\n"
      ]
    },
    {
      "cell_type": "code",
      "execution_count": 11,
      "metadata": {
        "id": "tMBlWuGq_qRJ"
      },
      "outputs": [
        {
          "data": {
            "text/html": [
              "<div>\n",
              "<style scoped>\n",
              "    .dataframe tbody tr th:only-of-type {\n",
              "        vertical-align: middle;\n",
              "    }\n",
              "\n",
              "    .dataframe tbody tr th {\n",
              "        vertical-align: top;\n",
              "    }\n",
              "\n",
              "    .dataframe thead th {\n",
              "        text-align: right;\n",
              "    }\n",
              "</style>\n",
              "<table border=\"1\" class=\"dataframe\">\n",
              "  <thead>\n",
              "    <tr style=\"text-align: right;\">\n",
              "      <th></th>\n",
              "      <th>destination</th>\n",
              "      <th>passanger</th>\n",
              "      <th>weather</th>\n",
              "      <th>temperature</th>\n",
              "      <th>time</th>\n",
              "      <th>coupon</th>\n",
              "      <th>expiration</th>\n",
              "      <th>gender</th>\n",
              "      <th>age</th>\n",
              "      <th>maritalStatus</th>\n",
              "      <th>...</th>\n",
              "      <th>CoffeeHouse</th>\n",
              "      <th>CarryAway</th>\n",
              "      <th>RestaurantLessThan20</th>\n",
              "      <th>Restaurant20To50</th>\n",
              "      <th>toCoupon_GEQ5min</th>\n",
              "      <th>toCoupon_GEQ15min</th>\n",
              "      <th>toCoupon_GEQ25min</th>\n",
              "      <th>direction_same</th>\n",
              "      <th>direction_opp</th>\n",
              "      <th>Y</th>\n",
              "    </tr>\n",
              "  </thead>\n",
              "  <tbody>\n",
              "    <tr>\n",
              "      <th>9</th>\n",
              "      <td>No Urgent Place</td>\n",
              "      <td>Kid(s)</td>\n",
              "      <td>Sunny</td>\n",
              "      <td>80</td>\n",
              "      <td>10AM</td>\n",
              "      <td>Bar</td>\n",
              "      <td>1d</td>\n",
              "      <td>Female</td>\n",
              "      <td>21</td>\n",
              "      <td>Unmarried partner</td>\n",
              "      <td>...</td>\n",
              "      <td>never</td>\n",
              "      <td>NaN</td>\n",
              "      <td>4~8</td>\n",
              "      <td>1~3</td>\n",
              "      <td>1</td>\n",
              "      <td>1</td>\n",
              "      <td>0</td>\n",
              "      <td>0</td>\n",
              "      <td>1</td>\n",
              "      <td>0</td>\n",
              "    </tr>\n",
              "    <tr>\n",
              "      <th>13</th>\n",
              "      <td>Home</td>\n",
              "      <td>Alone</td>\n",
              "      <td>Sunny</td>\n",
              "      <td>55</td>\n",
              "      <td>6PM</td>\n",
              "      <td>Bar</td>\n",
              "      <td>1d</td>\n",
              "      <td>Female</td>\n",
              "      <td>21</td>\n",
              "      <td>Unmarried partner</td>\n",
              "      <td>...</td>\n",
              "      <td>never</td>\n",
              "      <td>NaN</td>\n",
              "      <td>4~8</td>\n",
              "      <td>1~3</td>\n",
              "      <td>1</td>\n",
              "      <td>0</td>\n",
              "      <td>0</td>\n",
              "      <td>1</td>\n",
              "      <td>0</td>\n",
              "      <td>1</td>\n",
              "    </tr>\n",
              "    <tr>\n",
              "      <th>17</th>\n",
              "      <td>Work</td>\n",
              "      <td>Alone</td>\n",
              "      <td>Sunny</td>\n",
              "      <td>55</td>\n",
              "      <td>7AM</td>\n",
              "      <td>Bar</td>\n",
              "      <td>1d</td>\n",
              "      <td>Female</td>\n",
              "      <td>21</td>\n",
              "      <td>Unmarried partner</td>\n",
              "      <td>...</td>\n",
              "      <td>never</td>\n",
              "      <td>NaN</td>\n",
              "      <td>4~8</td>\n",
              "      <td>1~3</td>\n",
              "      <td>1</td>\n",
              "      <td>1</td>\n",
              "      <td>1</td>\n",
              "      <td>0</td>\n",
              "      <td>1</td>\n",
              "      <td>0</td>\n",
              "    </tr>\n",
              "    <tr>\n",
              "      <th>24</th>\n",
              "      <td>No Urgent Place</td>\n",
              "      <td>Friend(s)</td>\n",
              "      <td>Sunny</td>\n",
              "      <td>80</td>\n",
              "      <td>10AM</td>\n",
              "      <td>Bar</td>\n",
              "      <td>1d</td>\n",
              "      <td>Male</td>\n",
              "      <td>21</td>\n",
              "      <td>Single</td>\n",
              "      <td>...</td>\n",
              "      <td>less1</td>\n",
              "      <td>4~8</td>\n",
              "      <td>4~8</td>\n",
              "      <td>less1</td>\n",
              "      <td>1</td>\n",
              "      <td>0</td>\n",
              "      <td>0</td>\n",
              "      <td>0</td>\n",
              "      <td>1</td>\n",
              "      <td>1</td>\n",
              "    </tr>\n",
              "    <tr>\n",
              "      <th>35</th>\n",
              "      <td>Home</td>\n",
              "      <td>Alone</td>\n",
              "      <td>Sunny</td>\n",
              "      <td>55</td>\n",
              "      <td>6PM</td>\n",
              "      <td>Bar</td>\n",
              "      <td>1d</td>\n",
              "      <td>Male</td>\n",
              "      <td>21</td>\n",
              "      <td>Single</td>\n",
              "      <td>...</td>\n",
              "      <td>less1</td>\n",
              "      <td>4~8</td>\n",
              "      <td>4~8</td>\n",
              "      <td>less1</td>\n",
              "      <td>1</td>\n",
              "      <td>0</td>\n",
              "      <td>0</td>\n",
              "      <td>1</td>\n",
              "      <td>0</td>\n",
              "      <td>1</td>\n",
              "    </tr>\n",
              "  </tbody>\n",
              "</table>\n",
              "<p>5 rows × 26 columns</p>\n",
              "</div>"
            ],
            "text/plain": [
              "        destination  passanger weather  temperature  time coupon expiration  \\\n",
              "9   No Urgent Place     Kid(s)   Sunny           80  10AM    Bar         1d   \n",
              "13             Home      Alone   Sunny           55   6PM    Bar         1d   \n",
              "17             Work      Alone   Sunny           55   7AM    Bar         1d   \n",
              "24  No Urgent Place  Friend(s)   Sunny           80  10AM    Bar         1d   \n",
              "35             Home      Alone   Sunny           55   6PM    Bar         1d   \n",
              "\n",
              "    gender age      maritalStatus  ...  CoffeeHouse CarryAway  \\\n",
              "9   Female  21  Unmarried partner  ...        never       NaN   \n",
              "13  Female  21  Unmarried partner  ...        never       NaN   \n",
              "17  Female  21  Unmarried partner  ...        never       NaN   \n",
              "24    Male  21             Single  ...        less1       4~8   \n",
              "35    Male  21             Single  ...        less1       4~8   \n",
              "\n",
              "   RestaurantLessThan20 Restaurant20To50 toCoupon_GEQ5min toCoupon_GEQ15min  \\\n",
              "9                   4~8              1~3                1                 1   \n",
              "13                  4~8              1~3                1                 0   \n",
              "17                  4~8              1~3                1                 1   \n",
              "24                  4~8            less1                1                 0   \n",
              "35                  4~8            less1                1                 0   \n",
              "\n",
              "   toCoupon_GEQ25min direction_same direction_opp  Y  \n",
              "9                  0              0             1  0  \n",
              "13                 0              1             0  1  \n",
              "17                 1              0             1  0  \n",
              "24                 0              0             1  1  \n",
              "35                 0              1             0  1  \n",
              "\n",
              "[5 rows x 26 columns]"
            ]
          },
          "execution_count": 11,
          "metadata": {},
          "output_type": "execute_result"
        }
      ],
      "source": [
        "#new data for bar coupons\n",
        "bar_coupons = data[data['coupon'] == 'Bar']\n",
        "\n",
        "#first few rows of the data after filter\n",
        "bar_coupons.head()"
      ]
    },
    {
      "cell_type": "markdown",
      "metadata": {
        "id": "8ue6uCqf_qRJ"
      },
      "source": [
        "2. What proportion of bar coupons were accepted?\n"
      ]
    },
    {
      "cell_type": "code",
      "execution_count": 12,
      "metadata": {
        "id": "hSdte8Mi_qRK"
      },
      "outputs": [
        {
          "data": {
            "text/plain": [
              "Y\n",
              "0    0.589985\n",
              "1    0.410015\n",
              "Name: proportion, dtype: float64"
            ]
          },
          "execution_count": 12,
          "metadata": {},
          "output_type": "execute_result"
        }
      ],
      "source": [
        "bar_coupon_accepted = bar_coupons['Y'].value_counts(normalize=True)\n",
        "bar_coupon_accepted"
      ]
    },
    {
      "cell_type": "markdown",
      "metadata": {
        "id": "85nA_iEi_qRK"
      },
      "source": [
        "3. Compare the acceptance rate between those who went to a bar 3 or fewer times a month to those who went more.\n"
      ]
    },
    {
      "cell_type": "code",
      "execution_count": 13,
      "metadata": {
        "id": "LBOrN-XM_qRK"
      },
      "outputs": [
        {
          "data": {
            "text/plain": [
              "(0.6473551637279596, 0.35185185185185186)"
            ]
          },
          "execution_count": 13,
          "metadata": {},
          "output_type": "execute_result"
        }
      ],
      "source": [
        "bar_going_more = bar_coupons[bar_coupons['Bar'] == '1~3']  #1-3 times/month\n",
        "bar_going_less = bar_coupons[bar_coupons['Bar'] != '1~3']  #more or less than 1-3 times/month\n",
        "\n",
        "#acceptance rate\n",
        "acceptance_rate_more = bar_going_more['Y'].mean()\n",
        "acceptance_rate_less = bar_going_less['Y'].mean()\n",
        "\n",
        "#results\n",
        "acceptance_rate_more, acceptance_rate_less"
      ]
    },
    {
      "cell_type": "markdown",
      "metadata": {
        "id": "RBgcQwH4_qRK"
      },
      "source": [
        "4. Compare the acceptance rate between drivers who go to a bar more than once a month and are over the age of 25 to the all others.  Is there a difference?\n"
      ]
    },
    {
      "cell_type": "code",
      "execution_count": 14,
      "metadata": {
        "id": "bf28bbeX_qRK"
      },
      "outputs": [
        {
          "data": {
            "text/plain": [
              "(0.4032520325203252, 0.5059952038369304)"
            ]
          },
          "execution_count": 14,
          "metadata": {},
          "output_type": "execute_result"
        }
      ],
      "source": [
        "\n",
        "bar_coupons.loc[:, 'age'] = pd.to_numeric(bar_coupons['age'], errors='coerce') #had to look into coerce error did not know\n",
        "\n",
        "over_25 = bar_coupons[bar_coupons['age'] > 25]  #over 25yr old\n",
        "under_25 = bar_coupons[bar_coupons['age'] <= 25] #under 25yr old\n",
        "\n",
        "#acceptance rate\n",
        "acceptance_rate_over_25 = over_25['Y'].mean()\n",
        "acceptance_rate_under_25 = under_25['Y'].mean()\n",
        "\n",
        "#results\n",
        "acceptance_rate_over_25, acceptance_rate_under_25"
      ]
    },
    {
      "cell_type": "markdown",
      "metadata": {
        "id": "S4RKT4PJ_qRK"
      },
      "source": [
        "5. Use the same process to compare the acceptance rate between drivers who go to bars more than once a month and had passengers that were not a kid and had occupations other than farming, fishing, or forestry.\n"
      ]
    },
    {
      "cell_type": "code",
      "execution_count": 15,
      "metadata": {
        "id": "sENaI2Tg_qRK"
      },
      "outputs": [
        {
          "data": {
            "text/plain": [
              "nan"
            ]
          },
          "execution_count": 15,
          "metadata": {},
          "output_type": "execute_result"
        }
      ],
      "source": [
        "\n",
        "filtered_group = bar_coupons[(bar_coupons['Bar'] == '1~3') & (bar_coupons['has_children'] == '0') & (bar_coupons['occupation'] != 'Farming')]\n",
        "\n",
        "#acceptance rate\n",
        "filtered_acceptance_rate = filtered_group['Y'].mean()\n",
        "\n",
        "#result\n",
        "filtered_acceptance_rate"
      ]
    },
    {
      "cell_type": "markdown",
      "metadata": {
        "id": "n2LIUTil_qRK"
      },
      "source": [
        "6. Compare the acceptance rates between those drivers who:\n",
        "\n",
        "- go to bars more than once a month, had passengers that were not a kid, and were not widowed *OR*\n",
        "- go to bars more than once a month and are under the age of 30 *OR*\n",
        "- go to cheap restaurants more than 4 times a month and income is less than 50K.\n",
        "\n"
      ]
    },
    {
      "cell_type": "code",
      "execution_count": null,
      "metadata": {
        "id": "aK_wEzx7_qRK"
      },
      "outputs": [],
      "source": [
        "\n",
        "# Filter G1, Drivers who go to bars more than once a month, have passengers that are not a kid, and are not widowed\n",
        "group_1 =\n",
        "\n",
        "# Filter G2, drivers who go to bars more than once a month and are under 30\n",
        "group_2 =\n",
        "\n",
        "# Filter G3, drivers who go to cheap restaurants more than 4 times a month and income is less than 50K\n",
        "group_3 =\n",
        "\n",
        "#accceptance rate\n",
        "acceptance_rate_group_1 = group_1['Y'].mean()\n",
        "acceptance_rate_group_2 = group_2['Y'].mean()\n",
        "acceptance_rate_group_3 = group_3['Y'].mean()\n",
        "\n",
        "#results\n",
        "acceptance_rate_group_1, acceptance_rate_group_2, acceptance_rate_group_3"
      ]
    },
    {
      "cell_type": "markdown",
      "metadata": {
        "id": "v3fL3QkO_qRK"
      },
      "source": [
        "7.  Based on these observations, what do you hypothesize about drivers who accepted the bar coupons?"
      ]
    },
    {
      "cell_type": "code",
      "execution_count": null,
      "metadata": {
        "id": "Y48naDFh_qRL"
      },
      "outputs": [],
      "source": []
    },
    {
      "cell_type": "markdown",
      "metadata": {
        "id": "r4Hu1zOb_qRL"
      },
      "source": [
        "### Independent Investigation\n",
        "\n",
        "Using the bar coupon example as motivation, you are to explore one of the other coupon groups and try to determine the characteristics of passengers who accept the coupons.  "
      ]
    },
    {
      "cell_type": "code",
      "execution_count": null,
      "metadata": {
        "id": "0c71cQhu_qRL"
      },
      "outputs": [],
      "source": []
    },
    {
      "cell_type": "code",
      "execution_count": null,
      "metadata": {
        "id": "QEsBkvIN_qRL"
      },
      "outputs": [],
      "source": []
    },
    {
      "cell_type": "code",
      "execution_count": null,
      "metadata": {
        "id": "fTC2WGE3_qRL"
      },
      "outputs": [],
      "source": []
    },
    {
      "cell_type": "code",
      "execution_count": null,
      "metadata": {
        "id": "RrqUWn7d_qRL"
      },
      "outputs": [],
      "source": []
    },
    {
      "cell_type": "code",
      "execution_count": null,
      "metadata": {
        "id": "_oykf8YP_qRL"
      },
      "outputs": [],
      "source": []
    }
  ],
  "metadata": {
    "colab": {
      "provenance": []
    },
    "kernelspec": {
      "display_name": "base",
      "language": "python",
      "name": "python3"
    },
    "language_info": {
      "codemirror_mode": {
        "name": "ipython",
        "version": 3
      },
      "file_extension": ".py",
      "mimetype": "text/x-python",
      "name": "python",
      "nbconvert_exporter": "python",
      "pygments_lexer": "ipython3",
      "version": "3.12.4"
    }
  },
  "nbformat": 4,
  "nbformat_minor": 0
}
